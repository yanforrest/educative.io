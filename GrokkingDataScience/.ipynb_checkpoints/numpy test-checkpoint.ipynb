{
 "cells": [
  {
   "cell_type": "code",
   "execution_count": 19,
   "metadata": {},
   "outputs": [
    {
     "name": "stdout",
     "output_type": "stream",
     "text": [
      "[0. 0. 0. 0. 0. 0. 0. 0. 0. 0.]\n",
      "[0 1 2 3 4 5 6 7 8 9]\n",
      "[[[0.1548526  0.80055347 0.93535871]\n",
      "  [0.85410976 0.96575173 0.385155  ]\n",
      "  [0.14962149 0.09604674 0.9919374 ]]\n",
      "\n",
      " [[0.53929397 0.20651785 0.0059228 ]\n",
      "  [0.97308913 0.44758748 0.49833004]\n",
      "  [0.05215259 0.21776266 0.29177818]]\n",
      "\n",
      " [[0.53015585 0.05200467 0.64362413]\n",
      "  [0.03493434 0.54431301 0.44527886]\n",
      "  [0.15036903 0.66389286 0.87285606]]]\n",
      "0.004330685324697048\n",
      "0.995726976541151\n"
     ]
    }
   ],
   "source": [
    "import numpy as np\n",
    "Z=np.zeros(10);\n",
    "print(Z)\n",
    "\n",
    "import numpy as np\n",
    "arr=np.arange(10)\n",
    "print(arr)\n",
    "\n",
    "arr=np.random.random([3,3,3]) \n",
    "print(arr)\n",
    "\n",
    "arr=np.random.random([10,10])\n",
    "min_val=arr.min()\n",
    "max_val=arr.max()\n",
    "print(min_val)\n",
    "print(max_val)\n",
    "\n"
   ]
  },
  {
   "cell_type": "markdown",
   "metadata": {},
   "source": [
    "\n"
   ]
  },
  {
   "cell_type": "code",
   "execution_count": 30,
   "metadata": {},
   "outputs": [
    {
     "name": "stdout",
     "output_type": "stream",
     "text": [
      "[[1 2 3]\n",
      " [4 5 6]\n",
      " [7 8 9]]\n"
     ]
    }
   ],
   "source": [
    "import numpy as np\n",
    "grid=np.arange(1,10).reshape([3, 3])\n",
    "print(grid)"
   ]
  },
  {
   "cell_type": "code",
   "execution_count": 50,
   "metadata": {},
   "outputs": [
    {
     "name": "stdout",
     "output_type": "stream",
     "text": [
      "[ 0  1  2  3  4  5  6  7  8 -1]\n"
     ]
    }
   ],
   "source": [
    "arr6 = np.arange(10)\n",
    "arr6[arr6.argmax()]=-1\n",
    "print(arr6)\n"
   ]
  },
  {
   "cell_type": "code",
   "execution_count": 55,
   "metadata": {},
   "outputs": [],
   "source": [
    "arr7 = np.arange(9).reshape(3,3)\n",
    "arr7 = arr7[::1,::-1]"
   ]
  },
  {
   "cell_type": "code",
   "execution_count": null,
   "metadata": {},
   "outputs": [],
   "source": []
  }
 ],
 "metadata": {
  "kernelspec": {
   "display_name": "Python 3",
   "language": "python",
   "name": "python3"
  },
  "language_info": {
   "codemirror_mode": {
    "name": "ipython",
    "version": 3
   },
   "file_extension": ".py",
   "mimetype": "text/x-python",
   "name": "python",
   "nbconvert_exporter": "python",
   "pygments_lexer": "ipython3",
   "version": "3.6.4"
  }
 },
 "nbformat": 4,
 "nbformat_minor": 2
}
