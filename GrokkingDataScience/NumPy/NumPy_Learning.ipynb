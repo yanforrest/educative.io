{
 "cells": [
  {
   "cell_type": "code",
   "execution_count": 60,
   "metadata": {},
   "outputs": [
    {
     "name": "stdout",
     "output_type": "stream",
     "text": [
      "x = [0 1 2 3 4 5 6 7 8 9]\n",
      "x + 5 = [ 5  6  7  8  9 10 11 12 13 14]\n",
      "x - 5 = [-5 -4 -3 -2 -1  0  1  2  3  4]\n",
      "x * 5 = [ 0  5 10 15 20 25 30 35 40 45]\n",
      "x / 5 = [0.  0.2 0.4 0.6 0.8 1.  1.2 1.4 1.6 1.8]\n",
      "x ** 2 =  [ 0  1  4  9 16 25 36 49 64 81]\n",
      "x % 2  =  [0 1 0 1 0 1 0 1 0 1]\n",
      "[ 5  6  7  8  9 10 11 12 13 14]\n",
      "[-5 -4 -3 -2 -1  0  1  2  3  4]\n",
      "[ 0  5 10 15 20 25 30 35 40 45]\n",
      "[0.  0.2 0.4 0.6 0.8 1.  1.2 1.4 1.6 1.8]\n",
      "[ 0  1  4  9 16 25 36 49 64 81]\n",
      "[0 1 0 1 0 1 0 1 0 1]\n"
     ]
    }
   ],
   "source": [
    "import numpy as np\n",
    "\n",
    "x = np.arange(10)\n",
    "\n",
    "# Native arithmentic operators\n",
    "print(\"x =\", x)\n",
    "print(\"x + 5 =\", x + 5)\n",
    "print(\"x - 5 =\", x - 5)\n",
    "print(\"x * 5 =\", x * 5)\n",
    "print(\"x / 5 =\", x / 5)\n",
    "print(\"x ** 2 = \", x ** 2)\n",
    "print(\"x % 2  = \", x % 2)\n",
    "\n",
    "# OR we can use explicit functions, ufuncs, e.g. \"add\" instead of \"+\"\n",
    "print(np.add(x, 5))\n",
    "print(np.subtract(x, 5))\n",
    "print(np.multiply(x, 5))\n",
    "print(np.divide(x, 5))\n",
    "print(np.power(x, 2))\n",
    "print(np.mod(x, 2))"
   ]
  },
  {
   "cell_type": "code",
   "execution_count": 62,
   "metadata": {},
   "outputs": [
    {
     "name": "stdout",
     "output_type": "stream",
     "text": [
      "theta      =  [0.         1.04719755 2.0943951  3.14159265]\n",
      "sin(theta) =  [0.00000000e+00 8.66025404e-01 8.66025404e-01 1.22464680e-16]\n",
      "cos(theta) =  [ 1.   0.5 -0.5 -1. ]\n",
      "tan(theta) =  [ 0.00000000e+00  1.73205081e+00 -1.73205081e+00 -1.22464680e-16]\n"
     ]
    }
   ],
   "source": [
    "theta = np.linspace(0, np.pi, 4)\n",
    "print(\"theta      = \", theta)\n",
    "print(\"sin(theta) = \", np.sin(theta))\n",
    "print(\"cos(theta) = \", np.cos(theta))\n",
    "print(\"tan(theta) = \", np.tan(theta))"
   ]
  },
  {
   "cell_type": "code",
   "execution_count": 63,
   "metadata": {},
   "outputs": [
    {
     "name": "stdout",
     "output_type": "stream",
     "text": [
      "x     = [1, 2, 3]\n",
      "e^x   = [ 2.71828183  7.3890561  20.08553692]\n",
      "2^x   = [2. 4. 8.]\n",
      "3^x   = [ 3  9 27]\n",
      "ln(x)    = [0.         0.69314718 1.09861229]\n",
      "log2(x)  = [0.        1.        1.5849625]\n",
      "log10(x) = [0.         0.30103    0.47712125]\n"
     ]
    }
   ],
   "source": [
    "x = [1, 2, 3]\n",
    "print(\"x     =\", x)\n",
    "print(\"e^x   =\", np.exp(x))\n",
    "print(\"2^x   =\", np.exp2(x))\n",
    "print(\"3^x   =\", np.power(3, x))\n",
    "\n",
    "print(\"ln(x)    =\", np.log(x))\n",
    "print(\"log2(x)  =\", np.log2(x))\n",
    "print(\"log10(x) =\", np.log10(x))"
   ]
  },
  {
   "cell_type": "code",
   "execution_count": 64,
   "metadata": {},
   "outputs": [
    {
     "name": "stdout",
     "output_type": "stream",
     "text": [
      "[1 2 3 4 5]\n",
      "15\n"
     ]
    }
   ],
   "source": [
    "x = np.arange(1, 6)\n",
    "sum_all = np.add.reduce(x)\n",
    "\n",
    "print(x)\n",
    "print(sum_all)"
   ]
  },
  {
   "cell_type": "code",
   "execution_count": 65,
   "metadata": {},
   "outputs": [
    {
     "name": "stdout",
     "output_type": "stream",
     "text": [
      "[1 2 3 4 5]\n",
      "[ 1  3  6 10 15]\n"
     ]
    }
   ],
   "source": [
    "x = np.arange(1, 6)\n",
    "sum_acc = np.add.accumulate(x)\n",
    "\n",
    "print(x)\n",
    "print(sum_acc)"
   ]
  },
  {
   "cell_type": "code",
   "execution_count": 66,
   "metadata": {},
   "outputs": [
    {
     "name": "stdout",
     "output_type": "stream",
     "text": [
      "Sum of values is: 51.772664531956345\n",
      "Mean value is:  0.5177266453195635\n",
      "Sum of values is: 51.772664531956345\n",
      "Mean value is:  0.5177266453195635\n",
      "Max value is:  0.9967564913221365\n",
      "Min value is:  0.0003984950783277874\n"
     ]
    }
   ],
   "source": [
    "import numpy as np\n",
    "\n",
    "x = np.random.random(100)\n",
    "\n",
    "# Sum of all the values\n",
    "print(\"Sum of values is:\", np.sum(x))\n",
    "# Mean value\n",
    "print(\"Mean value is: \", np.mean(x))\n",
    "\n",
    "#For min, max, sum, and several other NumPy aggregates, \n",
    "#a shorter syntax is to use methods of the array object itself,\n",
    "# i.e. instead of np.sum(x), we can use x.sum()\n",
    "print(\"Sum of values is:\", x.sum())\n",
    "print(\"Mean value is: \", x.mean())\n",
    "print(\"Max value is: \", x.max())\n",
    "print(\"Min value is: \", x.min())"
   ]
  },
  {
   "cell_type": "code",
   "execution_count": 68,
   "metadata": {},
   "outputs": [
    {
     "name": "stdout",
     "output_type": "stream",
     "text": [
      "[[0.45569629 0.0866532  0.28288488 0.75284814]\n",
      " [0.53751804 0.31860711 0.87452861 0.96604197]\n",
      " [0.55756503 0.86344049 0.89440579 0.00855409]]\n",
      "Overall sum: 6.598743651456712\n",
      "Overall Min: 0.008554094776975552\n",
      "Column wise minimum:  [0.45569629 0.0866532  0.28288488 0.00855409]\n",
      "Row wise minimum:  [0.0866532  0.31860711 0.00855409]\n"
     ]
    }
   ],
   "source": [
    "import numpy as np\n",
    "\n",
    "grid = np.random.random((3, 4))\n",
    "print(grid)\n",
    "\n",
    "print(\"Overall sum:\", grid.sum())\n",
    "print(\"Overall Min:\", grid.min())\n",
    "\n",
    "# Row wise and column wise min\n",
    "print(\"Column wise minimum: \", np.amin(grid, axis=0))\n",
    "print(\"Row wise minimum: \", np.amin(grid, axis=1))"
   ]
  },
  {
   "cell_type": "code",
   "execution_count": 69,
   "metadata": {},
   "outputs": [
    {
     "name": "stdout",
     "output_type": "stream",
     "text": [
      "[ True False False False False]\n",
      "[False False False  True  True]\n"
     ]
    }
   ],
   "source": [
    "import numpy as np\n",
    "\n",
    "x = np.array([1, 2, 3, 4, 5])\n",
    "\n",
    "print(x < 2) # less than\n",
    "print(x >= 4) # greater than or equal"
   ]
  },
  {
   "cell_type": "code",
   "execution_count": 70,
   "metadata": {},
   "outputs": [
    {
     "data": {
      "text/plain": [
       "array([False,  True, False, False, False])"
      ]
     },
     "execution_count": 70,
     "metadata": {},
     "output_type": "execute_result"
    }
   ],
   "source": [
    "x = np.array([1, 2, 3, 4, 5])\n",
    "\n",
    "# Elements for which multiplying by two is the same as the square of the value\n",
    "(2 * x) == (x ** 2)\n",
    "#> array([False,  True, False, False, False], dtype=bool)"
   ]
  },
  {
   "cell_type": "code",
   "execution_count": 79,
   "metadata": {},
   "outputs": [
    {
     "name": "stdout",
     "output_type": "stream",
     "text": [
      "[0 1 2 3 4 5 6 7 8 9]\n",
      "6\n",
      "True\n",
      "True\n"
     ]
    }
   ],
   "source": [
    "\n",
    "x = np.arange(10)\n",
    "print(x)\n",
    "\n",
    "# How many values less than 6?\n",
    "print(np.count_nonzero(x < 6))\n",
    "\n",
    "# Are there any values greater than 8?\n",
    "print(np.any(x > 8))\n",
    "\n",
    "# Are all values less than 10?\n",
    "print(np.all(x < 10))"
   ]
  },
  {
   "cell_type": "code",
   "execution_count": 80,
   "metadata": {},
   "outputs": [
    {
     "name": "stdout",
     "output_type": "stream",
     "text": [
      "[[8 2 4]\n",
      " [3 4 0]\n",
      " [2 7 2]]\n",
      "[[False  True  True]\n",
      " [ True  True  True]\n",
      " [ True False  True]]\n",
      "[2 4 3 4 0 2 2]\n"
     ]
    }
   ],
   "source": [
    "import numpy as np \n",
    "\n",
    "# Random integers between [0, 10) of shape 3x3\n",
    "x = np.random.randint(0, 10, (3, 3))\n",
    "print(x)\n",
    "\n",
    "# Boolean array\n",
    "print(x < 6)\n",
    "\n",
    "# Boolean mask\n",
    "print(x[x < 6])\n"
   ]
  },
  {
   "cell_type": "code",
   "execution_count": 85,
   "metadata": {},
   "outputs": [
    {
     "name": "stdout",
     "output_type": "stream",
     "text": [
      "[[6 5 1]\n",
      " [8 6 0]\n",
      " [5 0 6]]\n",
      "[5 1 0 5 0]\n"
     ]
    }
   ],
   "source": []
  },
  {
   "cell_type": "code",
   "execution_count": null,
   "metadata": {},
   "outputs": [],
   "source": []
  }
 ],
 "metadata": {
  "kernelspec": {
   "display_name": "Python 3",
   "language": "python",
   "name": "python3"
  },
  "language_info": {
   "codemirror_mode": {
    "name": "ipython",
    "version": 3
   },
   "file_extension": ".py",
   "mimetype": "text/x-python",
   "name": "python",
   "nbconvert_exporter": "python",
   "pygments_lexer": "ipython3",
   "version": "3.6.4"
  }
 },
 "nbformat": 4,
 "nbformat_minor": 2
}
