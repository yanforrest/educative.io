{
 "cells": [
  {
   "cell_type": "code",
   "execution_count": null,
   "metadata": {},
   "outputs": [],
   "source": [
    "import pandas as pd\n",
    "\n",
    "# Input \n",
    "data = {'Artist': ['Ariana Grande', 'Taylor Swift', 'Ed Sheeran', 'Justin Bieber', 'Lady Gaga', 'Bruno Mars'],\n",
    "        'Genre': ['Jazz', 'Rock', 'Jazz', 'Pop', 'Pop', 'Rock'],\n",
    "        'Listeners': [1300000, 2700000, 5000000, 2000000, 3000000, 1100000]}\n",
    "\n",
    "labels = ['AG', 'TS', 'ED', 'JB', 'LG', 'BM']\n",
    "\n",
    "# Your solution goes here\n",
    "df = pd.DataFrame(data,labels);\n",
    "# Uncomment the print statement once done\n",
    "print(df)\n",
    "\n",
    "# Your solution goes here\n",
    "\n",
    "col=df['Listeners']\n",
    "row=df.iloc[0];\n",
    "# Uncomment the print statement once done\n",
    "print(\"Row:\\n\", row)\n",
    "print(\"##########\")\n",
    "print(\"Col:\\n\", col)\n",
    "\n",
    "\n",
    "# Your solution goes here\n",
    "pop_artists=df[df['Genre']=='Pop']\n",
    "# Uncomment the print statement once done\n",
    "print(pop_artists)\n",
    "\n",
    "# Your solution goes here\n",
    "top_pop=df[(df['Genre']=='Pop') &(df['Listeners'] > 2000000)]\n",
    "# Uncomment the print statement once done\n",
    "print(top_pop)\n"
   ]
  }
 ],
 "metadata": {
  "kernelspec": {
   "display_name": "Python 3",
   "language": "python",
   "name": "python3"
  },
  "language_info": {
   "codemirror_mode": {
    "name": "ipython",
    "version": 3
   },
   "file_extension": ".py",
   "mimetype": "text/x-python",
   "name": "python",
   "nbconvert_exporter": "python",
   "pygments_lexer": "ipython3",
   "version": "3.6.4"
  }
 },
 "nbformat": 4,
 "nbformat_minor": 2
}
