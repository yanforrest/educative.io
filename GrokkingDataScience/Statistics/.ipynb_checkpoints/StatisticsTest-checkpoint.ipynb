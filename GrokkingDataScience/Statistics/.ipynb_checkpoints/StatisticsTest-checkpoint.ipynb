{
 "cells": [
  {
   "cell_type": "code",
   "execution_count": 2,
   "metadata": {},
   "outputs": [
    {
     "name": "stdout",
     "output_type": "stream",
     "text": [
      "Mean is  53.5\n",
      "Median is  17.5\n",
      "SD is  85.73709815476612\n"
     ]
    }
   ],
   "source": [
    "import numpy as np\n",
    "\n",
    "# Input list\n",
    "data = [23, 57, 10, 10, 12, 35, 2, 74, 302, 10]\n",
    "\n",
    "# Repalce the \"None\" values with your solutions\n",
    "# Use NumPy to calculate the values for each variable\n",
    "mean = np.mean(data)\n",
    "median = np.median(data)\n",
    "standard_deviation = np.std(data)\n",
    "\n",
    "print(\"Mean is \", mean)\n",
    "print(\"Median is \", median)\n",
    "print(\"SD is \", standard_deviation)"
   ]
  },
  {
   "cell_type": "code",
   "execution_count": null,
   "metadata": {},
   "outputs": [],
   "source": []
  }
 ],
 "metadata": {
  "kernelspec": {
   "display_name": "Python 3",
   "language": "python",
   "name": "python3"
  },
  "language_info": {
   "codemirror_mode": {
    "name": "ipython",
    "version": 3
   },
   "file_extension": ".py",
   "mimetype": "text/x-python",
   "name": "python",
   "nbconvert_exporter": "python",
   "pygments_lexer": "ipython3",
   "version": "3.6.4"
  }
 },
 "nbformat": 4,
 "nbformat_minor": 2
}
