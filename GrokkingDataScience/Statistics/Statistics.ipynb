{
 "cells": [
  {
   "cell_type": "code",
   "execution_count": 2,
   "metadata": {},
   "outputs": [
    {
     "name": "stdout",
     "output_type": "stream",
     "text": [
      "Mean learning time:  4.6\n",
      "Mean score:  4.8\n",
      "Median learning time:  4.0\n",
      "Standard deviation:  3.2\n",
      "Correlation between learning hours and scores: [[1.         0.88964891]\n",
      " [0.88964891 1.        ]]\n"
     ]
    }
   ],
   "source": [
    "import numpy as np \n",
    "\n",
    "# The dataset\n",
    "learning_hours = [1, 2, 6, 4, 10]\n",
    "scores = [3, 4, 6, 5, 6]\n",
    "\n",
    "# Applying some stats methods to understand the data:\n",
    "print(\"Mean learning time: \", np.mean(learning_hours))\n",
    "print(\"Mean score: \", np.mean(scores))\n",
    "print(\"Median learning time: \", np.median(learning_hours))\n",
    "print(\"Standard deviation: \", np.std(learning_hours))\n",
    "print(\"Correlation between learning hours and scores:\", np.corrcoef(learning_hours, scores))\n",
    "\n",
    "\n",
    "#################################\n",
    "# Import libraries\n",
    "import numpy as np\n",
    "import seaborn as sns\n",
    "\n",
    "# Create some random fake data\n",
    "x = np.random.random(size=1000000)\n",
    "\n",
    "# Plot the distribution\n",
    "sns.distplot(x);\n",
    "\n",
    "#################################\n",
    "# Create some data that follows a Normal Distribution\n",
    "x = np.random.normal(size=1000000)\n",
    "\n",
    "# Plot the distribution\n",
    "sns.distplot(x);    \n"
   ]
  }
 ],
 "metadata": {
  "kernelspec": {
   "display_name": "Python 3",
   "language": "python",
   "name": "python3"
  },
  "language_info": {
   "codemirror_mode": {
    "name": "ipython",
    "version": 3
   },
   "file_extension": ".py",
   "mimetype": "text/x-python",
   "name": "python",
   "nbconvert_exporter": "python",
   "pygments_lexer": "ipython3",
   "version": "3.6.4"
  }
 },
 "nbformat": 4,
 "nbformat_minor": 2
}
