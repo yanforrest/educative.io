{
 "cells": [
  {
   "cell_type": "code",
   "execution_count": 10,
   "metadata": {},
   "outputs": [],
   "source": [
    "import matplotlib.pyplot as plt\n",
    "\n",
    "## Examples of available styles\n",
    "plt.style.use('classic')\n",
    "plt.style.use('ggplot')\n",
    "plt.style.use('seaborn-whitegrid')\n",
    "plt.style.use(['dark_background'])\n",
    "\n",
    "\n",
    "########################\n",
    "plt.show() \n",
    "%matplotlib notebook\n",
    "%matplotlib inline\n",
    "fig.savefig('figure.png')\n",
    "\n",
    "##############################\n",
    "import numpy as np\n",
    "# Generating Random Data\n",
    "x = np.random.randn(100)\n",
    "y = np.random.randn(100)\n",
    "colors = np.random.rand(100)\n",
    "sizes = 1000 * np.random.rand(100)\n",
    "plt.scatter(x, y, c=colors, s=sizes, alpha=0.2, cmap='viridis') \n",
    "plt.colorbar()\n",
    "\n",
    "\n",
    "##############################\n",
    "## Scatter Plots\n",
    "# 1. Importing modules\n",
    "import matplotlib.pyplot as plt\n",
    "import numpy as np\n",
    "\n",
    "# 2. Generating some random data\n",
    "rng = np.random.RandomState(0)\n",
    "x = rng.randn(100)\n",
    "y = rng.randn(100)\n",
    "colors = rng.rand(100)\n",
    "sizes = 1000 * rng.rand(100)\n",
    "\n",
    "# 3. Create a scatterplot using the a colormap.\n",
    "plt.scatter(x, y, c=colors, s=sizes, alpha=0.2,cmap='viridis')\n",
    "plt.colorbar();  # To show the color scale\n",
    "\n",
    "plt.savefig(\"output/scatter.png\")\n",
    "\n",
    "##############################\n",
    "## Line Plots\n",
    "plt.title(\"Some cool title for the plot\")\n",
    "plt.xlabel(\"Some x-axis label\")\n",
    "plt.ylabel(\"Some y-axis label\");\n",
    "\n",
    "# 1. Importing modules\n",
    "import matplotlib.pyplot as plt\n",
    "\n",
    "# 2. Getting the Data\n",
    "year = [1970, 1980, 1990, 2000, 2010, 2020]\n",
    "pop_A = [4.9, 5.3, 7.1, 10.7, 13.5, 15.6]\n",
    "pop_B = [44.4, 55.6, 69.7, 87.1, 95.4, 100.5]\n",
    "\n",
    "# 3. Visualising the Data\n",
    "plt.plot(year, pop_A, color='g')\n",
    "plt.plot(year, pop_B, color='r')\n",
    "plt.xlabel('Countries')\n",
    "plt.ylabel('Population in million')\n",
    "plt.title('Populations over the years')\n",
    "\n",
    "plt.savefig(\"output/line.png\")\n",
    "\n",
    "\n",
    "##############################\n",
    "## Histogram Plots\n",
    "import numpy as np\n",
    "import matplotlib.pyplot as plt\n",
    "\n",
    "data = np.random.randn(1000)\n",
    "plt.hist(x=data);\n",
    "\n",
    "plt.savefig(\"output/hist1.png\")\n",
    "\n",
    "plt.hist(data, bins=30, normed=True, alpha=0.5,\n",
    "                histtype='stepfilled', color='steelblue',\n",
    "                edgecolor='none');\n",
    "\n",
    "plt.savefig(\"output/hist2.png\")"
   ]
  },
  {
   "cell_type": "code",
   "execution_count": 49,
   "metadata": {},
   "outputs": [
    {
     "data": {
      "image/png": "[encoded data removed]",
      "text/plain": [
       "<matplotlib.figure.Figure at 0x10a8d70b8>"
      ]
     },
     "metadata": {},
     "output_type": "display_data"
    }
   ],
   "source": [
    "\n"
   ]
  },
  {
   "cell_type": "code",
   "execution_count": 48,
   "metadata": {},
   "outputs": [
    {
     "data": {
      "image/png": "[encoded data removed]",
      "text/plain": [
       "<matplotlib.figure.Figure at 0x10abfe3c8>"
      ]
     },
     "metadata": {},
     "output_type": "display_data"
    }
   ],
   "source": []
  },
  {
   "cell_type": "code",
   "execution_count": null,
   "metadata": {},
   "outputs": [],
   "source": []
  }
 ],
 "metadata": {
  "kernelspec": {
   "display_name": "Python 3",
   "language": "python",
   "name": "python3"
  },
  "language_info": {
   "codemirror_mode": {
    "name": "ipython",
    "version": 3
   },
   "file_extension": ".py",
   "mimetype": "text/x-python",
   "name": "python",
   "nbconvert_exporter": "python",
   "pygments_lexer": "ipython3",
   "version": "3.6.4"
  }
 },
 "nbformat": 4,
 "nbformat_minor": 2
}
